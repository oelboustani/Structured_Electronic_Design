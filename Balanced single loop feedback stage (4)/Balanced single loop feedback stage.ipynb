{
 "cells": [
  {
   "cell_type": "code",
   "execution_count": null,
   "metadata": {},
   "outputs": [],
   "source": [
    "from SLiCAP import *\n",
    "import numpy as np"
   ]
  },
  {
   "cell_type": "code",
   "execution_count": null,
   "metadata": {},
   "outputs": [],
   "source": [
    "prj = initProject('Balanced single loop feedback')\n"
   ]
  },
  {
   "cell_type": "code",
   "execution_count": null,
   "metadata": {},
   "outputs": [],
   "source": [
    "htmlPage('Introduction and Requirements')\n",
    "\n",
    "txt = \"For this assignment, we consider a balanced CS stage with single loop feedback. Specifically, we consider a complementary parallel stage, i.e. push-pull stage in terms conventional analog design, with capacitive passive feedback loop.\"\n",
    "HTML(text2html(txt))\n",
    "txt = r\"The maximum length of the antenna is $l= 0.5 \\text{ m}$. Considering the maximum length, the noise floor is $P_n = 2.5 \\times 10^{-17} \\times 0.5^2 = 6.25 \\times 10^{-18} (V^2 / Hz)$ Furthermore, the flicker noise $P_{fn} = \\frac{10^{-6}}{f} \\times l^2 $. The corner frequency is $f_l =200 kHz$.  \"\n",
    "HTML(text2html(txt))\n",
    "txt = r\"The active antenna is loaded with 50 $\\Omega$ coaxial cable. Given a 1 dB compression level of 0 dBm at the output of the amplifier. This means an output power of 1 mW. Therefore, the output rms voltage is $V_o= \\sqrt{P \\cdot R_o} = \\sqrt{1\\;mW \\cdot 50\\;\\Omega} = 0.2236\\; V$. The output rms current is $I_o = V_o/R_o = 0.2236\\; V / 50\\;\\Omega = 4.472\\; mA$. From these values we get the peak voltage $V_p = \\sqrt{2} \\cdot 0.2236 = 316.2\\; mV$ and the peak value of the current is $I_p = 6.324\\; mA$. Since we are using output voltage feedback the output impedance of the amplifier is zero. Therefore, we insert a series resistance of $50 \\Omega$, to obtain an ouput resistance of $50 \\Omega$. This means that the we must double the ouput peak voltage $V_p = 632.4\\; mV$, while the ouput current stays the same.\"\n",
    "HTML(text2html(txt))\n",
    "txt = r\"The voltage gain of the amplifier is $A_v = V_{out}/V_{in} = Vo_{rms}/(0.45\\times 0.5)$. Sinc we need two times the rms voltage of the CS stage withouut feedback, we get = $A_v = 2 \\times 0.2236/(0.45\\times 0.5) = 2$.\"\n",
    "HTML(text2html(txt))\n",
    "txt = r\"Finally, the intermodulation products in the circuit bandwidth (10 kHz - 30 MHz), should be less than $-50 dBm$.\"\n",
    "HTML(text2html(txt));"
   ]
  },
  {
   "cell_type": "code",
   "execution_count": null,
   "metadata": {},
   "outputs": [],
   "source": [
    "makeNetlist('CS_noise.asc', 'Noise Analysis')\n",
    "i1 = instruction();\n",
    "i1.setCircuit('CS_noise.cir');"
   ]
  },
  {
   "cell_type": "code",
   "execution_count": null,
   "metadata": {},
   "outputs": [],
   "source": [
    "HTML(head2html('Circuit schematic'))\n",
    "HTML(img2html('CS_noise.svg', 600))"
   ]
  },
  {
   "cell_type": "code",
   "execution_count": null,
   "metadata": {},
   "outputs": [],
   "source": [
    "HTML(netlist2html('CS_noise.cir'))\n"
   ]
  },
  {
   "cell_type": "code",
   "execution_count": null,
   "metadata": {},
   "outputs": [],
   "source": [
    "HTML(head2html('Analysis'))\n",
    "\n",
    "txt = r\"For the noise analysis of a complemantary parallel stage we keep the analysis simple by analyzing a CS stage instead. In order to achieve the same noise performance of the CS stage we must halve the width of each transistor and the quiescent operating current. However, since we will be using passive feedback, the noise performance degarades since the feedback capacitor appears as a shunt capacitor at the input.\"\n",
    "text2html(txt)\n",
    "txt = r\"To set the gain of the amplifier at 2 we need the feedback capacitor to be twice larger than the antenna capacitor. The Capacitor of the antenna is $C_A = 8.33 \\times l pF = 8.33 \\times 0.5 = 4.2 pF$. Therefore, the feedback capacitor is $C_f = 2 \\times C_A = 8.33 pF$.\"\n",
    "text2html(txt)\n",
    "txt = r\"For the CS stage, we know that we can get the optimum performance when $c_{iss} = C_A = 4.2 pF$. If we operate in the saturation region, we have $WL = c_{iss} \\frac{3}{2} \\frac{t_{ox}}{\\epsilon_o \\epsilon_{sio2}} = 7.48 e-10$. And the minimum $g_m$ is $g_m = 10.6 mS$. This results $F_T = 400 MHz$ and $f_l = 30 kHz$. This means that noise requirements are achievable for CS stage.\"\n",
    "text2html(txt);\n",
    "txt = r\"We choose $L = 900 nm$ and $W = 830 \\mu m$. And we consider the feedback capacitor $C_F = 2\\times C_A = 8.4 pF$.\"\n",
    "text2html(txt);\n"
   ]
  },
  {
   "cell_type": "code",
   "execution_count": null,
   "metadata": {},
   "outputs": [],
   "source": [
    "i1.defPar('L', '900n')\n",
    "i1.defPar('W', '830u')\n",
    "i1.defPar('ID', '10m')\n",
    "i1.defPar('IG', '0')\n",
    "i1.defPar('C_A', '4.2p')\n",
    "i1.defPar('C_F', '8.4p')\n"
   ]
  },
  {
   "cell_type": "code",
   "execution_count": null,
   "metadata": {
    "scrolled": false
   },
   "outputs": [],
   "source": [
    "HTML(elementData2html(i1.circuit))"
   ]
  },
  {
   "cell_type": "code",
   "execution_count": null,
   "metadata": {
    "scrolled": false
   },
   "outputs": [],
   "source": [
    "HTML(params2html(i1.circuit))"
   ]
  },
  {
   "cell_type": "code",
   "execution_count": null,
   "metadata": {},
   "outputs": [],
   "source": [
    "tox = i1.getParValue('TOX_N18');\n",
    "eps = 3.453e-11;\n",
    "Ca = 4.2e-12;\n",
    "Se = 6.25e-18;\n",
    "k = i1.getParValue('k');\n",
    "kf = i1.getParValue('KF_N18');\n",
    "T = 300;\n",
    "\n",
    "WL = Ca *3*tox/(eps*2)\n",
    "gm = 16*k*T/(Se)\n",
    "ft = gm/(2*np.pi*Ca)\n",
    "fl = kf*np.pi*ft/(3*k*T)\n",
    "print(\"WL\", WL)\n",
    "print(\"gm\", gm)\n",
    "print(\"ft\", ft*1e-6)\n",
    "print(\"fl\", fl*1e-3)\n",
    "L = 900e-9;\n",
    "print((WL/L)*1e6)"
   ]
  },
  {
   "cell_type": "code",
   "execution_count": null,
   "metadata": {},
   "outputs": [],
   "source": [
    "i1.setSource('V1')\n",
    "i1.setDetector('V_out')\n",
    "i1.setGainType('vi')\n",
    "i1.setDataType('noise')\n",
    "i1.setSimType('numeric')\n",
    "noise_result = i1.execute()\n",
    "noise2html(noise_result)\n",
    "fig = plotSweep('Inoise', 'Source-referred noise spectrum', noise_result, 1e3, 1e8, 200, funcType = 'inoise', show=True)\n",
    "fig2html(fig, 600)"
   ]
  },
  {
   "cell_type": "code",
   "execution_count": null,
   "metadata": {},
   "outputs": [],
   "source": [
    "HTML(head2html('Conclusion'))\n",
    "\n",
    "txt = r\"We can conclude that the requirements have been met. The noise floor is above $6.25 \\times 10^{-18} (V^2 / Hz)$ and the cuttor frequency is $f_l = 200 kHz$. For the push-pull stage the same noise performance can be achieved for half the current and width values.\"\n",
    "\n",
    "text2html(txt);\n"
   ]
  },
  {
   "cell_type": "code",
   "execution_count": null,
   "metadata": {},
   "outputs": [],
   "source": [
    "clear()"
   ]
  },
  {
   "cell_type": "code",
   "execution_count": 23,
   "metadata": {},
   "outputs": [
    {
     "name": "stdout",
     "output_type": "stream",
     "text": [
      "C:\\Users\\maboa\\Desktop\\Structured Electronic Design\\Structured_Electronic_Design\\Balanced single loop feedback stage (4)\\cir\\push-pull_Slicap.asc\n",
      "Error: cannot find sub circuit definition 'CMOS18PN' for 'XU1'.\n",
      "Errors found during expansion of 'Small Signal Dynamic Behaviour'. Instructions with this circuit will not be executed.\n"
     ]
    }
   ],
   "source": [
    "makeNetlist('push-pull_Slicap.asc', 'Small Signal Dynamic Behaviour')\n",
    "i1 = instruction();\n",
    "i1.setCircuit('push-pull_Slicap.cir');"
   ]
  },
  {
   "cell_type": "code",
   "execution_count": null,
   "metadata": {},
   "outputs": [],
   "source": [
    "txt"
   ]
  },
  {
   "cell_type": "code",
   "execution_count": null,
   "metadata": {},
   "outputs": [],
   "source": []
  }
 ],
 "metadata": {
  "kernelspec": {
   "display_name": "Python 3",
   "language": "python",
   "name": "python3"
  },
  "language_info": {
   "codemirror_mode": {
    "name": "ipython",
    "version": 3
   },
   "file_extension": ".py",
   "mimetype": "text/x-python",
   "name": "python",
   "nbconvert_exporter": "python",
   "pygments_lexer": "ipython3",
   "version": "3.7.4"
  }
 },
 "nbformat": 4,
 "nbformat_minor": 4
}
