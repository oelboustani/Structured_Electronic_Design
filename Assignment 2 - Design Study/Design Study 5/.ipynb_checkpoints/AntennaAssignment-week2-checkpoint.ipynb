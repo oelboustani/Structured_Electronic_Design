{
 "cells": [
  {
   "cell_type": "markdown",
   "metadata": {},
   "source": [
    "### Imports"
   ]
  },
  {
   "cell_type": "code",
   "execution_count": 268,
   "metadata": {},
   "outputs": [],
   "source": [
    "import SLiCAP as slicap\n",
    "import sympy as sp\n",
    "import numpy as np"
   ]
  },
  {
   "cell_type": "markdown",
   "metadata": {},
   "source": [
    "### Project initialisation"
   ]
  },
  {
   "cell_type": "code",
   "execution_count": 269,
   "metadata": {},
   "outputs": [],
   "source": [
    "project = slicap.initProject('Active antenna')\n",
    "slicap.htmlPage('Unbalanced voltage-input dual-loop feedback stage')"
   ]
  },
  {
   "cell_type": "markdown",
   "metadata": {},
   "source": [
    "### Parameter initialisation"
   ]
  },
  {
   "cell_type": "code",
   "execution_count": 270,
   "metadata": {},
   "outputs": [],
   "source": [
    "par_defs    = {}\n",
    "\n",
    "I_d         = sp.symbols('I_d')\n",
    "P           = sp.symbols('P')\n",
    "V_s         = sp.symbols('V_s')\n",
    "P_max       = sp.symbols('P_max')\n",
    "KF_N18      = sp.symbols('KF_N18')\n",
    "eta_0       = sp.symbols('eta_0')\n",
    "C_ant       = sp.symbols('C_ant')\n",
    "S_pink_max  = sp.symbols('S_pink_max')\n",
    "S_white_max = sp.symbols('S_white_max')\n",
    "N_s_N18     = sp.symbols('N_s_N18')\n",
    "T           = sp.symbols('T')\n",
    "k           = sp.symbols('k')\n",
    "IC_XU1      = sp.symbols('IC_XU1')\n",
    "f_T_XU1     = sp.symbols('f_T_XU1')\n",
    "pi          = sp.symbols('pi')\n",
    "P_o_max     = sp.symbols('P_o_max')\n",
    "R_load      = sp.symbols('R_load')\n",
    "I_b         = sp.symbols('I_b')\n",
    "V_b         = sp.symbols('V_b')\n",
    "\n",
    "par_defs[P_max] = 0.25\n",
    "par_defs[V_s]   = 1.8"
   ]
  },
  {
   "cell_type": "markdown",
   "metadata": {},
   "source": [
    "### Power consumption"
   ]
  },
  {
   "cell_type": "code",
   "execution_count": 271,
   "metadata": {},
   "outputs": [
    {
     "data": {
      "text/plain": [
       "'$$\\\\begin{equation}\\nI_{d} < \\\\frac{P_{max}}{V_{s}}=0.1389\\n\\\\end{equation}\\n$$'"
      ]
     },
     "execution_count": 271,
     "metadata": {},
     "output_type": "execute_result"
    }
   ],
   "source": [
    "slicap.htmlPage('Power consumption')\n",
    "slicap.text2html(\"Assuming $V_o=1.5\\mathrm{V}$ and non-switching biasing, the power consumption has a lower bound:\")\n",
    "slicap.expr2html(P > V_s*I_b)\n",
    "slicap.text2html('Therefore, it would be showstopper if not:')\n",
    "I_d_max = P_max / V_s\n",
    "slicap.eqn2html(I_d < I_d_max, I_d_max.subs(par_defs))"
   ]
  },
  {
   "cell_type": "markdown",
   "metadata": {},
   "source": [
    "### Noise analysis"
   ]
  },
  {
   "cell_type": "code",
   "execution_count": 272,
   "metadata": {},
   "outputs": [
    {
     "data": {
      "text/plain": [
       "'<p>Given that the simple CS can satisfiy these equations, this topology must as well.</p>\\n'"
      ]
     },
     "execution_count": 272,
     "metadata": {},
     "output_type": "execute_result"
    }
   ],
   "source": [
    "slicap.htmlPage('Noise')\n",
    "slicap.img2html(\"DualFB_NoiseRedirect.jpeg\", 800)\n",
    "slicap.text2html(\"\"\"Since perfect feedback is nonenergic, the noise could be as low as a simple CS stage\n",
    "(only voltage input is shown, but the same applies for current input). Then the same design equations\n",
    "apply:\"\"\")\n",
    "# Run SLiCAP for noise model to substitute in parameter definitions\n",
    "slicap.expr2html(4*KF_N18*eta_0/C_ant < S_pink_max)\n",
    "slicap.text2html('')\n",
    "slicap.expr2html((5+1/3)*N_s_N18*T*k*(IC_XU1 + 0.75) / (pi * C_ant * f_T_XU1 * (IC_XU1 + 1)) < S_white_max)\n",
    "slicap.text2html(\"\"\"Given that the simple CS can satisfiy these equations, this topology must as well.\"\"\")"
   ]
  },
  {
   "cell_type": "markdown",
   "metadata": {},
   "source": [
    "### Output drive"
   ]
  },
  {
   "cell_type": "code",
   "execution_count": 273,
   "metadata": {},
   "outputs": [
    {
     "data": {
      "text/plain": [
       "'<p>Given that the simple CS can satisfiy these equations, this topology must as well.</p>\\n'"
      ]
     },
     "execution_count": 273,
     "metadata": {},
     "output_type": "execute_result"
    }
   ],
   "source": [
    "slicap.htmlPage('Output drive')\n",
    "slicap.img2html(\"DualFB_OutputDrive.jpeg\", 800)\n",
    "slicap.text2html(\"\"\"Because of the dual-loop topology, the CS stage can present the\n",
    "correct output impedance whilst directly driving the load. With ideal feedback networks,\n",
    "the feedback networks require no power, and the output drive behaviour is the same as for\n",
    "a simple CS stage (voltage input is shown, but the same applies for current input). Hence,\n",
    "the same design equations apply:\"\"\")\n",
    "slicap.expr2html(I_b > sp.sqrt(P_o_max / R_load))\n",
    "slicap.text2html(\"\")\n",
    "slicap.expr2html(V_b > sp.sqrt(P_o_max * R_load))\n",
    "slicap.text2html(\"\"\"Given that the simple CS can satisfiy these equations, this topology must as well.\"\"\")"
   ]
  },
  {
   "cell_type": "markdown",
   "metadata": {},
   "source": [
    "### Bandwidth"
   ]
  },
  {
   "cell_type": "code",
   "execution_count": 274,
   "metadata": {},
   "outputs": [],
   "source": [
    "def recursive_sub(expr, replace):\n",
    "    for _ in range(0, len(replace) + 1):\n",
    "        new_expr = expr.subs(replace)\n",
    "        if new_expr == expr:\n",
    "            return new_expr, True\n",
    "        else:\n",
    "            expr = new_expr\n",
    "    return new_expr, False"
   ]
  },
  {
   "cell_type": "code",
   "execution_count": 275,
   "metadata": {},
   "outputs": [
    {
     "name": "stdout",
     "output_type": "stream",
     "text": [
      "No errors found for circuit: 'Loop gain of voltage-input dual feedback loop implementation' from file: 'DualFB_Loopgain.net'.\n",
      "\n",
      "['H1', 'E1', 'Gm_M1_XU1', 'Gb_M1_XU1', 'Go_M1_XU1']\n"
     ]
    },
    {
     "data": {
      "image/png": "[encoded data removed]",
      "text/plain": [
       "<Figure size 504x360 with 1 Axes>"
      ]
     },
     "metadata": {
      "needs_background": "light"
     },
     "output_type": "display_data"
    },
    {
     "data": {
      "text/plain": [
       "\"<p>The nice thing about this analysis is that it takes into account the transfer\\nfrom the source to the driving quantity and from the amplifier output to the load. However, it doesn't\\nfacilitate adressing performance limitations for the controller, since there is no straightforward\\ncorrespondence between the parameters of the transistor and the resulting performance. I thought of\\nfinding the chain matrix of the entire system in terms of the chain matrix of the controller, which\\ncould be done by subtracting the feedback matrix from it. However, this doesn't give nice expressions\\nand finding the transmission 1 parameters corresponding to a given performance isn't straightforward\\neither. Is there a more insightful way to go about this?</p>\\n\""
      ]
     },
     "execution_count": 275,
     "metadata": {},
     "output_type": "execute_result"
    }
   ],
   "source": [
    "#slicap.htmlPage('Bandwidth')\n",
    "\n",
    "chain_instruction = slicap.instruction();\n",
    "chain_instruction.setCircuit('DualFB_Loopgain.net')\n",
    "\n",
    "slicap.htmlPage('Circuit data')\n",
    "slicap.text2html(\"\"\"In this analysis, we will check if the noise-optimised CS stage has sufficient\n",
    "bandwidth with ideal dual-loop feedback. The highest bandwidth is achieved for maximum $f_T$, which\n",
    "is obtained for maximum $I_D$, given by the power constraint. \"\"\")\n",
    "slicap.head2html('Circuit diagram')\n",
    "slicap.img2html('DualFB_CS_loopgain.png', 400)\n",
    "slicap.netlist2html('DualFB_Loopgain.net')\n",
    "\n",
    "slicap.head2html('Parameters')\n",
    "# set known parameters\n",
    "chain_instruction.defPar('R_load', '50')\n",
    "chain_instruction.defPar('c_antl', '8.333333e-12')\n",
    "#chain_instruction.defPar('E_in_max', '0.45')\n",
    "chain_instruction.defPar('l_ant', '0.5')\n",
    "chain_instruction.defPar('C_ant', sp.symbols('c_antl')*sp.symbols('l_ant'))\n",
    "chain_instruction.defPar('L', '180e-9')\n",
    "#chain_instruction.defPar('ID', sp.symbols('IC_CRIT_XU1')*sp.symbols('I_0_N18')*sp.symbols('W')/sp.symbols('L') )\n",
    "chain_instruction.defPar('ID', I_d_max.subs(par_defs).evalf())\n",
    "chain_instruction.defPar('W',  sp.symbols('C_ant')/((2/3)*sp.symbols('L')*sp.symbols('C_OX_N18')) )\n",
    "\n",
    "chain_instruction.defPar('P_o_max', '1e-3')\n",
    "chain_instruction.defPar('E_in_max', '0.45')\n",
    "\n",
    "chain_instruction.defPar('Z_o', '50')\n",
    "chain_instruction.defPar('mu', 2*sp.sqrt(sp.symbols('P_o_max')*sp.symbols('R_load'))/(sp.symbols('E_in_max')*sp.symbols('l_ant')) )\n",
    "\n",
    "chain_instruction.defPar('A', 1/sp.symbols('mu'))\n",
    "chain_instruction.defPar('B', sp.symbols('Z_o')*sp.symbols('A'))\n",
    "\n",
    "slicap.elementData2html(chain_instruction.circuit)\n",
    "slicap.params2html(chain_instruction.circuit)\n",
    "\n",
    "print(chain_instruction.controlled())\n",
    "\n",
    "slicap.htmlPage('Gain')\n",
    "chain_instruction.setSimType('numeric');\n",
    "chain_instruction.setGainType('servo');\n",
    "chain_instruction.setLGref('Gm_M1_XU1')\n",
    "chain_instruction.setDataType('laplace');\n",
    "chain_instruction.setSource('V1');\n",
    "chain_instruction.setDetector('V_Vout');\n",
    "\n",
    "gain = chain_instruction.execute()\n",
    "\n",
    "slicap.text2html(\"\"\"The servo function is:\"\"\")\n",
    "slicap.eqn2html('A_v', gain.laplace)\n",
    "\n",
    "slicap.head2html('Servo response')\n",
    "dBmagZt = slicap.plotSweep('dBmagZt.svg', 'dB magnitude', gain, 0.1, 1e6, 200, funcType = 'dBmag', sweepScale = 'M', show=True)\n",
    "slicap.fig2html(dBmagZt, 600)\n",
    "slicap.text2html(\"\"\"The $-3\\mathrm{{dB}}$ bandwidth is at about $20\\mathrm{{GHz}}$, and thus more than sufficient\n",
    "for this application. The bandwidth requirements thus leave room for power optimisation.\n",
    "\"\"\".format(sp.latex(recursive_sub(sp.symbols('ID'), chain_instruction.circuit.parDefs)[0].evalf())))\n",
    "\n",
    "slicap.head2html(\"Request for feedback\")\n",
    "slicap.text2html(\"\"\"The nice thing about this analysis is that it takes into account the transfer\n",
    "from the source to the driving quantity and from the amplifier output to the load. However, it doesn't\n",
    "facilitate adressing performance limitations for the controller, since there is no straightforward\n",
    "correspondence between the parameters of the transistor and the resulting performance. I thought of\n",
    "finding the chain matrix of the entire system in terms of the chain matrix of the controller, which\n",
    "could be done by subtracting the feedback matrix from it. However, this doesn't give nice expressions\n",
    "and finding the transmission 1 parameters corresponding to a given performance isn't straightforward\n",
    "either. Is there a more insightful way to go about this?\"\"\")\n",
    "\n",
    "# - Run SLiCAP with MOSFET model, have current source and voltage source at input and resistor at the output.\n",
    "# - Subsitute and simplify for all 4 coefficients of chain matrix to obtain chain matrix.\n",
    "# - Simplify in terms of fT"
   ]
  },
  {
   "cell_type": "markdown",
   "metadata": {},
   "source": [
    "### Distortion"
   ]
  },
  {
   "cell_type": "code",
   "execution_count": 276,
   "metadata": {},
   "outputs": [
    {
     "data": {
      "text/plain": [
       "'<p>Is there a better way to tackle this problem?</p>\\n'"
      ]
     },
     "execution_count": 276,
     "metadata": {},
     "output_type": "execute_result"
    }
   ],
   "source": [
    "slicap.htmlPage('Distortion')\n",
    "\n",
    "slicap.text2html(\"\"\"With perfect feedback, the controller is the only nonlinear part of the loop, so that the differential\n",
    "gain of the loop gain is equal to the differential gain of the controller gain. Since SLiCAP doesn't cover nonlinearities,\n",
    "I modelled the controller in LTSpice, using model-based biasing and a nullor approximation to find the differential gain\n",
    "over the output range:\"\"\")\n",
    "\n",
    "slicap.img2html('DualFB_DistortionTermination.png', 400)\n",
    "\n",
    "slicap.text2html(\"\"\"This is the point were I get stuck.\"\"\")\n",
    "slicap.text2html(\"\"\"First up, it seems to me that the input and output port terminations\n",
    "both influence the transfer characteristic, because of the nonlinear input and output impedances of the controller. The\n",
    "output impedance is easy enough to model, but since the input port is capacitive, it won't converge at DC. Analytically,\n",
    "it would make sense to go for some kind of quasi-static approach by taking the limit for arbitrarily low frequencies, \n",
    "but I have no idea how to implement that as a sweep in spice.\"\"\")\n",
    "slicap.text2html(\"\"\"Second, I don't know how to find the distortion-optimised CS stage. I figured higher bias currents \n",
    "should reduce distortion, since the load excursion causes a smaller disturbance of the bias point, but the high voltages\n",
    "on the gate can cause the stage to enter the triode region. Even avoiding that, there seems to be an optimum current\n",
    "for minimising distortion, where the differential gain of the controller gain drops quicker than the controller gain.\n",
    "That's different from what I would expect based on the EKV model, so that the only way to find this optimum would be\n",
    "through numerical methods.\"\"\")\n",
    "slicap.text2html(\"\"\"Finally, I'm not quite sure how to properly validate whether the distortion is low\n",
    "enough. One way would be to estimate the taylor coefficients based on the simulation results, but that seems overly\n",
    "time-consuming. One advantage would be that the effect of balancing could be easily calculated. Another approach\n",
    "would be to perform two-tone tests and amplitude sweeps using a simulated model of a distortion-optimised amplifier.\n",
    "However, that doesn't seem very insightful. Both of these approaches have the issue that they don't provide insight\n",
    "into how the controller could be optimised for lower distortion.\"\"\")\n",
    "slicap.text2html(\"\"\"Is there a better way to tackle this problem?\"\"\")\n",
    "\n",
    "\n",
    "# VI of noise-optimised and frequency-limited transistor with best differential gain over loop gain,\n",
    "# show that it is lower.\n",
    "# That will be the candidate transistor"
   ]
  },
  {
   "cell_type": "markdown",
   "metadata": {},
   "source": [
    "### Accuracy"
   ]
  },
  {
   "cell_type": "code",
   "execution_count": 277,
   "metadata": {},
   "outputs": [
    {
     "data": {
      "text/plain": [
       "'<p>Since no accuracy specification is given, the minimum magnitude of the loop gain\\nis determined only by distortion requirements.</p>\\n'"
      ]
     },
     "execution_count": 277,
     "metadata": {},
     "output_type": "execute_result"
    }
   ],
   "source": [
    "slicap.htmlPage('Accuracy')\n",
    "slicap.text2html(\"\"\"Since no accuracy specification is given, the minimum magnitude of the loop gain\n",
    "is determined only by distortion requirements.\"\"\")"
   ]
  },
  {
   "cell_type": "markdown",
   "metadata": {},
   "source": [
    "### Port isolation"
   ]
  },
  {
   "cell_type": "code",
   "execution_count": 278,
   "metadata": {},
   "outputs": [
    {
     "data": {
      "text/plain": [
       "'<p>Port isolation is not relevant. Assuming the body pin is connected to the\\nsource, the MOSFET is a three-terminal device, and is thus fully described by two equations\\n(forming a natural two-port). Hence, the port isolation must be perfect.</p>\\n'"
      ]
     },
     "execution_count": 278,
     "metadata": {},
     "output_type": "execute_result"
    }
   ],
   "source": [
    "slicap.htmlPage('Port isolation')\n",
    "slicap.text2html(\"\"\"Port isolation is not relevant. Assuming the body pin is connected to the\n",
    "source, the MOSFET is a three-terminal device, and is thus fully described by two equations\n",
    "(forming a natural two-port). Hence, the port isolation must be perfect.\"\"\")"
   ]
  },
  {
   "cell_type": "markdown",
   "metadata": {},
   "source": [
    "### Conclusion"
   ]
  },
  {
   "cell_type": "code",
   "execution_count": null,
   "metadata": {},
   "outputs": [],
   "source": []
  }
 ],
 "metadata": {
  "kernelspec": {
   "display_name": "SLiCAP-env",
   "language": "python",
   "name": "slicap-env"
  },
  "language_info": {
   "codemirror_mode": {
    "name": "ipython",
    "version": 3
   },
   "file_extension": ".py",
   "mimetype": "text/x-python",
   "name": "python",
   "nbconvert_exporter": "python",
   "pygments_lexer": "ipython3",
   "version": "3.9.0"
  }
 },
 "nbformat": 4,
 "nbformat_minor": 4
}
